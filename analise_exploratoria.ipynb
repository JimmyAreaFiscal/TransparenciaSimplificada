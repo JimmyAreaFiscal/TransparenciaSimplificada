{
 "cells": [
  {
   "cell_type": "markdown",
   "id": "5224c890",
   "metadata": {},
   "source": [
    "# Entrega Aplicando Conhecimento A2\n",
    "\n",
    "Neste documento, que compõe a entrega necessária para o exercício A2 - Aplicando Conhecimento, os seguintes itens serão desenvolvidos:\n",
    "\n",
    "1. Definição de linguagem de programação usada no Pojeto\n",
    "2. Análise exploratória da base de dados escolhida\n",
    "3. Tratamento da base de dados \n",
    "4. Definição e descrição das bases teóricas dos métodos \n",
    "5. Definição e descrição de como será calculada a acurácia"
   ]
  },
  {
   "cell_type": "markdown",
   "id": "271dace2",
   "metadata": {},
   "source": [
    "## Definições básicas\n",
    "\n",
    "Para o projeto, será utilizada a linguagem de programação Python, em virtude dos seguintes fatores:\n",
    "\n",
    "1. Versatilidade: permite-se escrever tanto o backend quanto um REST API e frontend por meio de uma mesma linguagem, facilitando o desenvolvimento do protótipo;\n",
    "\n",
    "2. Adequação à projetos de IA: python se tornou uma das linguagens naturalmente utilizadas para projetos envolvendo IA generativa, que é o caso deste trabalho;\n",
    "\n"
   ]
  },
  {
   "cell_type": "markdown",
   "id": "966270dd",
   "metadata": {},
   "source": [
    "## Análise Exploratória de Dados\n"
   ]
  },
  {
   "cell_type": "markdown",
   "id": "56dd7cdc",
   "metadata": {},
   "source": [
    "### Entendimento dos dados\n",
    "\n",
    "Conforme mencionado no arquivo \"Projeto Aplicado II.pdf\", os dados a serem utilizados são extraídos de um mesmo documento (\"Balanço Geral do Estado do Rio Grande do Sul 2024\").\n",
    "\n",
    "Assim, trata-se de uma coleção de documentos não estruturados, que deverão ser processados para permitir o seu uso no projeto em questão. \n"
   ]
  },
  {
   "cell_type": "markdown",
   "id": "7b5dd256",
   "metadata": {},
   "source": [
    "### Preparação dos dados\n",
    "\n",
    "Para a preparação dos dados, deve-se primeiramente extrair, do documento principal, os inúmeros trechos que o compõem.\n",
    "\n",
    "Para isso, será utilizada a biblioteca opensource <b><a href='https://docling-project.github.io/docling/'>Docling</a></b>, que permite o processamento de textos em pdf com extração de imagens por OCR. (Para maiores informações, acessar o website da biblioteca)."
   ]
  },
  {
   "cell_type": "code",
   "execution_count": null,
   "id": "b040b161",
   "metadata": {
    "vscode": {
     "languageId": "plaintext"
    }
   },
   "outputs": [],
   "source": []
  }
 ],
 "metadata": {
  "language_info": {
   "name": "python"
  }
 },
 "nbformat": 4,
 "nbformat_minor": 5
}
