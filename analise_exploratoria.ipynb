{
 "cells": [
  {
   "cell_type": "markdown",
   "id": "5224c890",
   "metadata": {},
   "source": [
    "# Entrega Aplicando Conhecimento A2\n",
    "\n",
    "Neste documento, que compõe a entrega necessária para o exercício A2 - Aplicando Conhecimento, os seguintes itens serão desenvolvidos:\n",
    "\n",
    "1. Definição de linguagem de programação usada no Projeto\n",
    "2. Análise exploratória da base de dados escolhida\n",
    "3. Tratamento da base de dados \n",
    "4. Definição e descrição das bases teóricas dos métodos \n",
    "5. Definição e descrição de como será calculada a acurácia"
   ]
  },
  {
   "cell_type": "markdown",
   "id": "271dace2",
   "metadata": {},
   "source": [
    "## Definição de linguagem de programação usada no Projeto\n",
    "\n",
    "Para o projeto, será utilizada a linguagem de programação Python, em virtude dos seguintes fatores:\n",
    "\n",
    "1. Versatilidade: permite-se escrever tanto o backend quanto um REST API e frontend por meio de uma mesma linguagem, facilitando o desenvolvimento do protótipo;\n",
    "\n",
    "2. Adequação à projetos de IA: python se tornou uma das linguagens naturalmente utilizadas para projetos envolvendo IA generativa, que é o caso deste trabalho;\n",
    "\n"
   ]
  },
  {
   "cell_type": "markdown",
   "id": "7b5dd256",
   "metadata": {},
   "source": [
    "## Tratamento da base de dados\n",
    "\n",
    "Inicialmente, faz-se necessário ressaltar que a \"base de dados\" advém de um único documento com 179 páginas. Assim, para permitir uma análise exploratória ou qualquer outra atividade de análise, deve-se transformar o documento (dado não estruturado) em uma base de dados propriamente dita (no nosso caso, com a extração de pedaços - <i>chunks</i> - e transformação em vetores - por meio de modelos de <i>embeddings</i>).\n",
    "\n",
    "Para isso, será utilizada a biblioteca opensource <b><a href='https://docling-project.github.io/docling/'>Docling</a></b>, que permite o processamento de textos em pdf com extração de imagens por OCR, além da biblioteca de IA generativa <a href='https://www.langchain.com/'>LangChain</a>, que permite a utilização de modelos de embeddings e de LLMs no trabalho. \n",
    "\n",
    "(Para maiores informações, acessar o website das bibliotecas).\n",
    "\n",
    "A ideia da preparação de dados, neste caso, é permitir que o texto (dado não estruturado) seja transformado em um conjunto de vetores de valores (embeddings) para, posteriormente, ser usado por um sistema ou modelo para responder perguntas dos usuários."
   ]
  },
  {
   "cell_type": "markdown",
   "id": "e5ca690e",
   "metadata": {},
   "source": [
    "#### Transformação do .pdf em um markdown\n",
    "\n",
    "Através dessa transformação, o documento poderá ser posteriormente quebrado em seções, facilitando a criação de <i>chunks</i> para a criação da vector store. \n",
    "\n"
   ]
  },
  {
   "cell_type": "code",
   "execution_count": 16,
   "id": "b040b161",
   "metadata": {},
   "outputs": [
    {
     "name": "stderr",
     "output_type": "stream",
     "text": [
      "2025-10-02 22:14:26,098 - INFO - detected formats: [<InputFormat.PDF: 'pdf'>]\n",
      "2025-10-02 22:14:26,103 - INFO - Going to convert document batch...\n",
      "2025-10-02 22:14:26,103 - INFO - Initializing pipeline for StandardPdfPipeline with options hash e647edf348883bed75367b22fbe60347\n",
      "2025-10-02 22:14:26,103 - INFO - Accelerator device: 'cuda:0'\n",
      "2025-10-02 22:14:27,099 - INFO - Accelerator device: 'cuda:0'\n",
      "2025-10-02 22:14:28,007 - INFO - Accelerator device: 'cuda:0'\n",
      "2025-10-02 22:14:28,212 - INFO - Processing document BalancoGeralEstadoRS.pdf\n",
      "2025-10-02 22:15:38,516 - INFO - Finished converting document BalancoGeralEstadoRS.pdf in 72.42 sec.\n"
     ]
    }
   ],
   "source": [
    "from docling.document_converter import DocumentConverter\n",
    "\n",
    "source = \"BalancoGeralEstadoRS.pdf\"\n",
    "\n",
    "converter = DocumentConverter()\n",
    "result = converter.convert(source)"
   ]
  },
  {
   "cell_type": "code",
   "execution_count": 17,
   "id": "13655703",
   "metadata": {},
   "outputs": [
    {
     "data": {
      "text/plain": [
       "'<!-- image -->\\n\\n## Balanço Geral do Estado\\n\\nLivro I • Demonstrações Contábeis e Fiscais\\n\\n<!-- image -->\\n\\nGOVERNO DO ESTADO DO RIO GRANDE DO SUL SECRETARIA DA FAZENDA DO ESTADO CONTADORIA E AUDITORIA-GERAL DO ESTADO\\n\\n<!-- image -->\\n\\n| Eduardo Figueiredo Cavalheiro Leite Governador do Estado                  | EQUIPE TÉCNICA                                      |\\n|---------------------------------------------------------------------------|-----------------------------------------------------|\\n|                                                                           | Carina Trein Dinon                                  |\\n| Pricilla Maria Santana Secretária de Estado da Fazenda                    | Claudio Teixeira Seelig Gabriela Machado dos Santos |\\n| Itanielson Dantas Silveira Cruz                                           | Guilherme Speroni Lentz                             |\\n| Secretário Adjunto da Fazenda                                             | João Batista dos Santos       '"
      ]
     },
     "execution_count": 17,
     "metadata": {},
     "output_type": "execute_result"
    }
   ],
   "source": [
    "result.document.export_to_markdown()[:1000]"
   ]
  },
  {
   "cell_type": "markdown",
   "id": "939f8f1c",
   "metadata": {},
   "source": [
    "#### Transformação do markdown em chunks \n",
    "\n",
    "Após a transformação em markdown, permite-se que a biblioteca langchain consiga dividir o documento em chunks."
   ]
  },
  {
   "cell_type": "code",
   "execution_count": 19,
   "id": "8ed41cee",
   "metadata": {},
   "outputs": [
    {
     "data": {
      "text/plain": [
       "Document(metadata={'Header_2': '2.1.5.  Garantias e Contragarantias'}, page_content=\"Segundo a 14ª edição do MDF, garantia é 'o compromisso de adimplência de obrigação financeira ou contratual assumida pelo ente da Federação por ocasião da realização de operações de crédito por suas estatais não dependentes ou por outros entes da Federação'. Para a concessão de garantias, a LRF determina que sejam exigidas contragarantias em valor igual ou superior ao da garantia a ser concedida, oferecidas pelo ente recebedor da garantia, a fim de abranger o ressarcimento dos custos decorrentes de eventual inadimplemento.  \\nA Resolução 43/2021 do Senado Federal estabeleceu que o saldo global das garantias concedidas pelos Estados, pelo DF e pelos Municípios não poderá exceder a 22% da RCL, podendo ser aumentado para 32% da RCL, caso o ente garantidor não tenha sido chamado a honrar, nos últimos 24 meses, quaisquer garantias anteriormente prestadas e esteja cumprindo os limites da dívida consolidada líquida e de despesa com pessoal, além de estar cumprindo o Programa de Ajuste Fiscal acordado com a União.  \\nO  Estado  do  Rio  Grande  do  Sul  ofereceu  contragarantia  em  operações  de  crédito externa tomadas pelo BRDE junto ao BID, em que o garantidor é a União. Como o BRDE é entidade controlada não dependente, o Estado atua como garantidor junto à União, devendo assumir a obrigação da entidade caso ela deixe de honrar o compromisso, o que caracteriza uma garantia concedida e deve ser avaliada para fins de cumprimento do limite. Em 31/12/2024, o saldo a pagar do empréstimo totalizou R$ 496,2 milhões, correspondendo a 0,83% da RCL do período.\")"
      ]
     },
     "execution_count": 19,
     "metadata": {},
     "output_type": "execute_result"
    }
   ],
   "source": [
    "from langchain_text_splitters import MarkdownHeaderTextSplitter\n",
    "\n",
    "headers_to_split_on = [\n",
    "            (\"#\", \"Header_1\"),\n",
    "            (\"##\", \"Header_2\"),\n",
    "            (\"###\", \"Header_3\")\n",
    "        ]\n",
    "\n",
    "splitter = MarkdownHeaderTextSplitter(headers_to_split_on=headers_to_split_on)\n",
    "\n",
    "chunks = splitter.split_text(result.document.export_to_markdown())\n",
    "\n",
    "chunks[50]\n"
   ]
  },
  {
   "cell_type": "code",
   "execution_count": null,
   "id": "a2754451",
   "metadata": {},
   "outputs": [
    {
     "name": "stdout",
     "output_type": "stream",
     "text": [
      "O documento possui 156 chunks de tamanho médio 3225.78 caracteres\n"
     ]
    }
   ],
   "source": [
    "print('O documento possui', len(chunks), 'chunks de tamanho médio', round(sum(len(chunk.page_content) for chunk in chunks) / len(chunks), 2), 'caracteres')"
   ]
  },
  {
   "cell_type": "markdown",
   "id": "d16acee9",
   "metadata": {},
   "source": [
    "#### Transformação dos chunks em vetores (embeddings)\n",
    "\n",
    "Por fim, realiza-se a transformação dos chunks em vetores, e armazena-os para posterior utilização.\n",
    "\n",
    "<i><b>Observação: para este tratamento, é necessário o uso de uma API key da OpenAI. Esta API KEY não estará disponível no repositório, sendo necessário criar um arquivo .env com a seguinte chave:\n",
    "\n",
    "OPENAI_API_KEY: {chave_pessoal_da_openai}</b></i>\n"
   ]
  },
  {
   "cell_type": "code",
   "execution_count": 30,
   "id": "0e60b311",
   "metadata": {},
   "outputs": [
    {
     "name": "stderr",
     "output_type": "stream",
     "text": [
      "2025-10-02 22:22:13,505 - INFO - HTTP Request: POST https://api.openai.com/v1/embeddings \"HTTP/1.1 200 OK\"\n"
     ]
    }
   ],
   "source": [
    "# Importação do modelo de embeddings\n",
    "from langchain_openai import OpenAIEmbeddings\n",
    "from dotenv import load_dotenv\n",
    "from langchain_chroma import Chroma\n",
    "\n",
    "load_dotenv()\n",
    "\n",
    "# Configuração do modelo de embeddings\n",
    "embeddings = OpenAIEmbeddings(model=\"text-embedding-3-small\")\n",
    "\n",
    "# Criação da vector store\n",
    "vector_store = Chroma.from_documents(\n",
    "    documents=chunks,\n",
    "    embedding=embeddings,\n",
    "    persist_directory=\"vector_store\"\n",
    ")\n",
    "\n"
   ]
  },
  {
   "cell_type": "markdown",
   "id": "c0375ba4",
   "metadata": {},
   "source": [
    "Com isso, a Vector Store (que representa a base de dados) está pronta. "
   ]
  },
  {
   "cell_type": "markdown",
   "id": "960ee550",
   "metadata": {},
   "source": [
    "## Análise Exploratória de Dados\n"
   ]
  },
  {
   "cell_type": "markdown",
   "id": "a34cbbb7",
   "metadata": {},
   "source": [
    "### Entendimento dos dados\n",
    "\n",
    "Conforme mencionado no arquivo \"Projeto Aplicado II.pdf\", os dados a serem utilizados são extraídos de um mesmo documento (\"Balanço Geral do Estado do Rio Grande do Sul 2024\").\n"
   ]
  },
  {
   "cell_type": "code",
   "execution_count": 31,
   "id": "67e314c0",
   "metadata": {},
   "outputs": [
    {
     "name": "stdout",
     "output_type": "stream",
     "text": [
      "O documento possui 156 chunks de tamanho médio 3225.78 caracteres\n"
     ]
    }
   ],
   "source": [
    "print('O documento possui', len(chunks), 'chunks de tamanho médio', round(sum(len(chunk.page_content) for chunk in chunks) / len(chunks), 2), 'caracteres')"
   ]
  },
  {
   "cell_type": "markdown",
   "id": "45cc6b5f",
   "metadata": {},
   "source": [
    "Foram divididos em 156 chunks, representando possíveis 156 capítulos e/ou seções. \n",
    "\n",
    "Optou-se por criar um dataframe da biblioteca pandas para melhor explorar os dados. "
   ]
  },
  {
   "cell_type": "code",
   "execution_count": 41,
   "id": "70b9ed87",
   "metadata": {},
   "outputs": [],
   "source": [
    "import pandas as pd \n",
    "\n",
    "estatisticas_chunks = pd.DataFrame(\n",
    "    {\n",
    "        'titulo': [chunk.metadata.values() for chunk in chunks],\n",
    "        'tamanho': [len(chunk.page_content) for chunk in chunks],    # Extração de quantidade de caracteres\n",
    "        'chunk': [chunk.page_content for chunk in chunks]\n",
    "    }\n",
    ")\n"
   ]
  },
  {
   "cell_type": "code",
   "execution_count": 42,
   "id": "8b343bd6",
   "metadata": {},
   "outputs": [
    {
     "data": {
      "text/html": [
       "<div>\n",
       "<style scoped>\n",
       "    .dataframe tbody tr th:only-of-type {\n",
       "        vertical-align: middle;\n",
       "    }\n",
       "\n",
       "    .dataframe tbody tr th {\n",
       "        vertical-align: top;\n",
       "    }\n",
       "\n",
       "    .dataframe thead th {\n",
       "        text-align: right;\n",
       "    }\n",
       "</style>\n",
       "<table border=\"1\" class=\"dataframe\">\n",
       "  <thead>\n",
       "    <tr style=\"text-align: right;\">\n",
       "      <th></th>\n",
       "      <th>titulo</th>\n",
       "      <th>tamanho</th>\n",
       "      <th>chunk</th>\n",
       "    </tr>\n",
       "  </thead>\n",
       "  <tbody>\n",
       "    <tr>\n",
       "      <th>39</th>\n",
       "      <td>(1.6.1.  Pessoal e Encargos Sociais)</td>\n",
       "      <td>3290</td>\n",
       "      <td>Inicialmente, cabe ressaltar que, neste item, ...</td>\n",
       "    </tr>\n",
       "    <tr>\n",
       "      <th>46</th>\n",
       "      <td>(2.1.1.  Receita Corrente Líquida - RCL)</td>\n",
       "      <td>4688</td>\n",
       "      <td>A  RCL  é  o  somatório  das  receitas  de  im...</td>\n",
       "    </tr>\n",
       "    <tr>\n",
       "      <th>150</th>\n",
       "      <td>(4.4.1.  Movimentação Financeira dos Recursos ...</td>\n",
       "      <td>4787</td>\n",
       "      <td>A  Movimentação  Financeira  dos  Recursos  Vi...</td>\n",
       "    </tr>\n",
       "    <tr>\n",
       "      <th>87</th>\n",
       "      <td>(3.4.2.1. Créditos Tributários a Receber - Aut...</td>\n",
       "      <td>583</td>\n",
       "      <td>Os  créditos  tributários  constituídos  na  f...</td>\n",
       "    </tr>\n",
       "    <tr>\n",
       "      <th>35</th>\n",
       "      <td>(1.5.10.  Alienação de Bens)</td>\n",
       "      <td>1017</td>\n",
       "      <td>A tabela abaixo evidencia os valores nominais ...</td>\n",
       "    </tr>\n",
       "  </tbody>\n",
       "</table>\n",
       "</div>"
      ],
      "text/plain": [
       "                                                titulo  tamanho  \\\n",
       "39                (1.6.1.  Pessoal e Encargos Sociais)     3290   \n",
       "46            (2.1.1.  Receita Corrente Líquida - RCL)     4688   \n",
       "150  (4.4.1.  Movimentação Financeira dos Recursos ...     4787   \n",
       "87   (3.4.2.1. Créditos Tributários a Receber - Aut...      583   \n",
       "35                        (1.5.10.  Alienação de Bens)     1017   \n",
       "\n",
       "                                                 chunk  \n",
       "39   Inicialmente, cabe ressaltar que, neste item, ...  \n",
       "46   A  RCL  é  o  somatório  das  receitas  de  im...  \n",
       "150  A  Movimentação  Financeira  dos  Recursos  Vi...  \n",
       "87   Os  créditos  tributários  constituídos  na  f...  \n",
       "35   A tabela abaixo evidencia os valores nominais ...  "
      ]
     },
     "execution_count": 42,
     "metadata": {},
     "output_type": "execute_result"
    }
   ],
   "source": [
    "estatisticas_chunks.sample(5)"
   ]
  },
  {
   "cell_type": "code",
   "execution_count": 43,
   "id": "0118fc63",
   "metadata": {},
   "outputs": [
    {
     "data": {
      "text/html": [
       "<div>\n",
       "<style scoped>\n",
       "    .dataframe tbody tr th:only-of-type {\n",
       "        vertical-align: middle;\n",
       "    }\n",
       "\n",
       "    .dataframe tbody tr th {\n",
       "        vertical-align: top;\n",
       "    }\n",
       "\n",
       "    .dataframe thead th {\n",
       "        text-align: right;\n",
       "    }\n",
       "</style>\n",
       "<table border=\"1\" class=\"dataframe\">\n",
       "  <thead>\n",
       "    <tr style=\"text-align: right;\">\n",
       "      <th></th>\n",
       "      <th>titulo</th>\n",
       "      <th>tamanho</th>\n",
       "      <th>chunk</th>\n",
       "    </tr>\n",
       "  </thead>\n",
       "  <tbody>\n",
       "    <tr>\n",
       "      <th>4</th>\n",
       "      <td>(SUMÁRIO)</td>\n",
       "      <td>21473</td>\n",
       "      <td>| INTRODUÇÃO  .  .  .  .  .  .  .  .  .  .  . ...</td>\n",
       "    </tr>\n",
       "    <tr>\n",
       "      <th>9</th>\n",
       "      <td>(QUADRO RESUMO DOS AJUSTES DECORRENTES DA CONS...</td>\n",
       "      <td>17211</td>\n",
       "      <td>| BALANÇO PATRIMONIAL CONSOLIDADO (Exclusões) ...</td>\n",
       "    </tr>\n",
       "    <tr>\n",
       "      <th>155</th>\n",
       "      <td>(ABREVIATURAS E SIGLAS)</td>\n",
       "      <td>16984</td>\n",
       "      <td>```\\nADCT Ato das Disposições Constitucionais ...</td>\n",
       "    </tr>\n",
       "    <tr>\n",
       "      <th>81</th>\n",
       "      <td>(3.3. PLANO DE IMPLANTAÇÃO DOS PROCEDIMENTOS C...</td>\n",
       "      <td>12928</td>\n",
       "      <td>A contabilidade pública brasileira está avança...</td>\n",
       "    </tr>\n",
       "    <tr>\n",
       "      <th>117</th>\n",
       "      <td>(3.5.3.1.1. Precatórios)</td>\n",
       "      <td>10099</td>\n",
       "      <td>Os saldos de precatórios estão registrados em ...</td>\n",
       "    </tr>\n",
       "    <tr>\n",
       "      <th>79</th>\n",
       "      <td>(Em milhões de R$)</td>\n",
       "      <td>9447</td>\n",
       "      <td>|                                             ...</td>\n",
       "    </tr>\n",
       "    <tr>\n",
       "      <th>10</th>\n",
       "      <td>(BALANÇO ORÇAMENTÁRIO CONSOLIDADO - ORÇAMENTOS...</td>\n",
       "      <td>8836</td>\n",
       "      <td>| RECEITAS ORÇAMENTÁRIAS                      ...</td>\n",
       "    </tr>\n",
       "    <tr>\n",
       "      <th>147</th>\n",
       "      <td>(4.2. BALANÇO FINANCEIRO)</td>\n",
       "      <td>8815</td>\n",
       "      <td>|                                             ...</td>\n",
       "    </tr>\n",
       "    <tr>\n",
       "      <th>47</th>\n",
       "      <td>(2.1.2.  Despesa com Pessoal)</td>\n",
       "      <td>8607</td>\n",
       "      <td>O Demonstrativo da Despesa com Pessoal é parte...</td>\n",
       "    </tr>\n",
       "    <tr>\n",
       "      <th>2</th>\n",
       "      <td>(MENSAGEM DA SECRETÁRIA)</td>\n",
       "      <td>8396</td>\n",
       "      <td>Este Balanço Geral do Estado cumpre a finalida...</td>\n",
       "    </tr>\n",
       "  </tbody>\n",
       "</table>\n",
       "</div>"
      ],
      "text/plain": [
       "                                                titulo  tamanho  \\\n",
       "4                                            (SUMÁRIO)    21473   \n",
       "9    (QUADRO RESUMO DOS AJUSTES DECORRENTES DA CONS...    17211   \n",
       "155                            (ABREVIATURAS E SIGLAS)    16984   \n",
       "81   (3.3. PLANO DE IMPLANTAÇÃO DOS PROCEDIMENTOS C...    12928   \n",
       "117                           (3.5.3.1.1. Precatórios)    10099   \n",
       "79                                  (Em milhões de R$)     9447   \n",
       "10   (BALANÇO ORÇAMENTÁRIO CONSOLIDADO - ORÇAMENTOS...     8836   \n",
       "147                          (4.2. BALANÇO FINANCEIRO)     8815   \n",
       "47                       (2.1.2.  Despesa com Pessoal)     8607   \n",
       "2                             (MENSAGEM DA SECRETÁRIA)     8396   \n",
       "\n",
       "                                                 chunk  \n",
       "4    | INTRODUÇÃO  .  .  .  .  .  .  .  .  .  .  . ...  \n",
       "9    | BALANÇO PATRIMONIAL CONSOLIDADO (Exclusões) ...  \n",
       "155  ```\\nADCT Ato das Disposições Constitucionais ...  \n",
       "81   A contabilidade pública brasileira está avança...  \n",
       "117  Os saldos de precatórios estão registrados em ...  \n",
       "79   |                                             ...  \n",
       "10   | RECEITAS ORÇAMENTÁRIAS                      ...  \n",
       "147  |                                             ...  \n",
       "47   O Demonstrativo da Despesa com Pessoal é parte...  \n",
       "2    Este Balanço Geral do Estado cumpre a finalida...  "
      ]
     },
     "execution_count": 43,
     "metadata": {},
     "output_type": "execute_result"
    }
   ],
   "source": [
    "estatisticas_chunks.sort_values(by='tamanho', ascending=False).head(10)"
   ]
  },
  {
   "cell_type": "code",
   "execution_count": 44,
   "id": "070e9577",
   "metadata": {},
   "outputs": [
    {
     "data": {
      "text/plain": [
       "count      156.000000\n",
       "mean      3225.782051\n",
       "std       3239.752954\n",
       "min         14.000000\n",
       "25%       1155.000000\n",
       "50%       2248.000000\n",
       "75%       4390.000000\n",
       "max      21473.000000\n",
       "Name: tamanho, dtype: float64"
      ]
     },
     "execution_count": 44,
     "metadata": {},
     "output_type": "execute_result"
    }
   ],
   "source": [
    "estatisticas_chunks.tamanho.describe()"
   ]
  },
  {
   "cell_type": "markdown",
   "id": "b69b3f58",
   "metadata": {},
   "source": [
    "Percebe-se acima que há muitos chunks com elevada quantidade de caracteres, em especial o Sumário.\n",
    "Além disso, chama a atenção um chunk com 14 caracteres."
   ]
  },
  {
   "cell_type": "code",
   "execution_count": 46,
   "id": "d3809e7c",
   "metadata": {},
   "outputs": [
    {
     "data": {
      "text/html": [
       "<div>\n",
       "<style scoped>\n",
       "    .dataframe tbody tr th:only-of-type {\n",
       "        vertical-align: middle;\n",
       "    }\n",
       "\n",
       "    .dataframe tbody tr th {\n",
       "        vertical-align: top;\n",
       "    }\n",
       "\n",
       "    .dataframe thead th {\n",
       "        text-align: right;\n",
       "    }\n",
       "</style>\n",
       "<table border=\"1\" class=\"dataframe\">\n",
       "  <thead>\n",
       "    <tr style=\"text-align: right;\">\n",
       "      <th></th>\n",
       "      <th>titulo</th>\n",
       "      <th>tamanho</th>\n",
       "      <th>chunk</th>\n",
       "    </tr>\n",
       "  </thead>\n",
       "  <tbody>\n",
       "    <tr>\n",
       "      <th>0</th>\n",
       "      <td>()</td>\n",
       "      <td>14</td>\n",
       "      <td>&lt;!-- image --&gt;</td>\n",
       "    </tr>\n",
       "    <tr>\n",
       "      <th>8</th>\n",
       "      <td>(3.  Consolidação das Demonstrações Contábeis)</td>\n",
       "      <td>207</td>\n",
       "      <td>A consolidação dos balanços e demonstrativos d...</td>\n",
       "    </tr>\n",
       "    <tr>\n",
       "      <th>12</th>\n",
       "      <td>(1.1.2.  Execução de Restos a Pagar)</td>\n",
       "      <td>322</td>\n",
       "      <td>Além dos pagamentos das despesas empenhadas e ...</td>\n",
       "    </tr>\n",
       "    <tr>\n",
       "      <th>16</th>\n",
       "      <td>(1.2. PLANEJAMENTO)</td>\n",
       "      <td>458</td>\n",
       "      <td>O planejamento estatal é formalizado com base ...</td>\n",
       "    </tr>\n",
       "    <tr>\n",
       "      <th>18</th>\n",
       "      <td>(1.2.2.  Lei de Diretrizes Orçamentárias (LDO))</td>\n",
       "      <td>995</td>\n",
       "      <td>A Lei de Diretrizes Orçamentárias (LDO) é o in...</td>\n",
       "    </tr>\n",
       "  </tbody>\n",
       "</table>\n",
       "</div>"
      ],
      "text/plain": [
       "                                             titulo  tamanho  \\\n",
       "0                                                ()       14   \n",
       "8    (3.  Consolidação das Demonstrações Contábeis)      207   \n",
       "12             (1.1.2.  Execução de Restos a Pagar)      322   \n",
       "16                              (1.2. PLANEJAMENTO)      458   \n",
       "18  (1.2.2.  Lei de Diretrizes Orçamentárias (LDO))      995   \n",
       "\n",
       "                                                chunk  \n",
       "0                                      <!-- image -->  \n",
       "8   A consolidação dos balanços e demonstrativos d...  \n",
       "12  Além dos pagamentos das despesas empenhadas e ...  \n",
       "16  O planejamento estatal é formalizado com base ...  \n",
       "18  A Lei de Diretrizes Orçamentárias (LDO) é o in...  "
      ]
     },
     "execution_count": 46,
     "metadata": {},
     "output_type": "execute_result"
    }
   ],
   "source": [
    "estatisticas_chunks.query('tamanho < 1000').head(5)"
   ]
  },
  {
   "cell_type": "markdown",
   "id": "38cd13da",
   "metadata": {},
   "source": [
    "Como esperado, o chunk de 14 caracteres era uma imagem que acabou não sendo processada. Observando manualmente o Balanço Geral, contudo, percebeu-se ser só uma imagem figurativa, sem valor para o trabalho."
   ]
  },
  {
   "cell_type": "code",
   "execution_count": 57,
   "id": "ca02b39c",
   "metadata": {},
   "outputs": [
    {
     "data": {
      "image/png": "[encoded data removed]",
      "text/plain": [
       "<Figure size 640x480 with 1 Axes>"
      ]
     },
     "metadata": {},
     "output_type": "display_data"
    }
   ],
   "source": [
    "import matplotlib.pyplot as plt\n",
    "\n",
    "estatisticas_chunks.tamanho.hist(bins=100)\n",
    "plt.title('Histograma do tamanho dos chunks')\n",
    "plt.xlabel('Tamanho')\n",
    "plt.ylabel('Frequência')\n",
    "plt.show()\n",
    "\n"
   ]
  },
  {
   "cell_type": "markdown",
   "id": "d7d5c670",
   "metadata": {},
   "source": [
    "Analisando a frequência das palavras, verifiquemos as mais frequentes nos chunks e em geral."
   ]
  },
  {
   "cell_type": "code",
   "execution_count": 64,
   "id": "c1bd8e06",
   "metadata": {},
   "outputs": [],
   "source": [
    "from collections import Counter\n",
    "import re\n",
    "\n",
    "def extrair_palavras_mais_frequentes(texto, n=10):\n",
    "    texto = texto.lower()\n",
    "    texto = re.sub(r'[^a-záéíóúàâêôãõç\\s]', '', texto)\n",
    "    palavras = texto.split()\n",
    "    stopwords = {\"a\", \"o\", \"e\", \"de\", \"do\", \"da\", \"em\", \"um\", \"uma\", \"que\", \"para\", \n",
    "                 \"no\", \"na\", \"os\", \"as\", \"com\", \"por\", \"se\", \"ao\", \"dos\", \"das\"}\n",
    "    palavras_filtradas = [p for p in palavras if p not in stopwords]\n",
    "    contagem = Counter(palavras_filtradas)\n",
    "    \n",
    "    return contagem.most_common(n)\n",
    "\n",
    "\n",
    "for idx, row in estatisticas_chunks.iterrows():\n",
    "    palavras = extrair_palavras_mais_frequentes(row['chunk'])\n",
    "    estatisticas_chunks.at[idx, 'palavras_mais_frequentes'] = palavras\n",
    "\n",
    "textao = ' '.join([chunk for chunk in estatisticas_chunks.chunk])\n",
    "palavras_mais_frequentes = extrair_palavras_mais_frequentes(textao, n=100)"
   ]
  },
  {
   "cell_type": "code",
   "execution_count": 65,
   "id": "8fcc82d6",
   "metadata": {},
   "outputs": [
    {
     "data": {
      "text/plain": [
       "[('r', 573),\n",
       " ('estado', 316),\n",
       " ('milhões', 312),\n",
       " ('não', 228),\n",
       " ('dívida', 194),\n",
       " ('total', 188),\n",
       " ('despesas', 181),\n",
       " ('recursos', 181),\n",
       " ('à', 159),\n",
       " ('prazo', 154),\n",
       " ('valor', 149),\n",
       " ('transferências', 143),\n",
       " ('lei', 139),\n",
       " ('é', 136),\n",
       " ('exercício', 132),\n",
       " ('pelo', 128),\n",
       " ('fundo', 128),\n",
       " ('receitas', 125),\n",
       " ('estadual', 121),\n",
       " ('bilhões', 119),\n",
       " ('receita', 113),\n",
       " ('ou', 112),\n",
       " ('outras', 110),\n",
       " ('valores', 109),\n",
       " ('despesa', 108),\n",
       " ('pela', 105),\n",
       " ('foi', 104),\n",
       " ('como', 102),\n",
       " ('são', 97),\n",
       " ('saldo', 96),\n",
       " ('caixa', 95),\n",
       " ('financeiro', 94),\n",
       " ('seguir', 94),\n",
       " ('pagar', 93),\n",
       " ('conforme', 90),\n",
       " ('créditos', 88),\n",
       " ('ativa', 86),\n",
       " ('ser', 85),\n",
       " ('saúde', 84),\n",
       " ('grande', 82),\n",
       " ('pessoal', 82),\n",
       " ('vinculados', 80),\n",
       " ('outros', 79),\n",
       " ('i', 77),\n",
       " ('longo', 76),\n",
       " ('plano', 75),\n",
       " ('pública', 74),\n",
       " ('aos', 74),\n",
       " ('curto', 74),\n",
       " ('rio', 73),\n",
       " ('resultado', 73),\n",
       " ('administração', 72),\n",
       " ('precatórios', 72),\n",
       " ('contribuições', 72),\n",
       " ('líquida', 71),\n",
       " ('ii', 71),\n",
       " ('var', 70),\n",
       " ('patrimonial', 69),\n",
       " ('fiscal', 68),\n",
       " ('bens', 68),\n",
       " ('crédito', 67),\n",
       " ('ativo', 67),\n",
       " ('federal', 65),\n",
       " ('serviços', 65),\n",
       " ('nos', 63),\n",
       " ('foram', 63),\n",
       " ('orçamentária', 63),\n",
       " ('encargos', 62),\n",
       " ('correntes', 62),\n",
       " ('sul', 61),\n",
       " ('entre', 61),\n",
       " ('aumento', 61),\n",
       " ('demais', 61),\n",
       " ('judiciais', 61),\n",
       " ('sobre', 60),\n",
       " ('obrigações', 60),\n",
       " ('exercícios', 59),\n",
       " ('restos', 59),\n",
       " ('patrimoniais', 59),\n",
       " ('complementar', 58),\n",
       " ('união', 58),\n",
       " ('contas', 57),\n",
       " ('partir', 57),\n",
       " ('passivo', 57),\n",
       " ('anteriores', 56),\n",
       " ('operações', 56),\n",
       " ('secretaria', 55),\n",
       " ('já', 55),\n",
       " ('variação', 55),\n",
       " ('investimentos', 54),\n",
       " ('às', 54),\n",
       " ('rs', 54),\n",
       " ('variações', 53),\n",
       " ('pagamento', 52),\n",
       " ('até', 52),\n",
       " ('execução', 52),\n",
       " ('desenvolvimento', 50),\n",
       " ('regime', 50),\n",
       " ('financeira', 49),\n",
       " ('também', 48)]"
      ]
     },
     "execution_count": 65,
     "metadata": {},
     "output_type": "execute_result"
    }
   ],
   "source": [
    "palavras_mais_frequentes"
   ]
  },
  {
   "cell_type": "markdown",
   "id": "e0938cbb",
   "metadata": {},
   "source": [
    "## Definição e descrição das bases teóricas dos métodos "
   ]
  },
  {
   "cell_type": "markdown",
   "id": "4c5a7dcf",
   "metadata": {},
   "source": [
    "### Engenharia de Dados\n",
    "\n",
    "A **Engenharia de Dados** é uma disciplina que se concentra no design, construção e manutenção de sistemas de dados robustos e escaláveis. Ela envolve, entre outros conceitos:\n",
    "\n",
    "- **Pipeline de Dados**: Sequência de processos que extraem, transformam e carregam dados (ETL/ELT)\n",
    "- **Arquitetura de Dados**: Estrutura organizacional que define como os dados fluem através de um sistema\n",
    "- **Data Lake**: Repositório que armazena dados brutos em seu formato nativo\n",
    "\n",
    "\n",
    "#### <i>Relação do trabalho com a disciplina\n",
    "\n",
    "No caso do trabalho em questão, utilizou-se um pipeline básico com as bibliotecas docling e langchain para construir um equivalente a um Data Lake, aqui chamado de Vector Store, com uma arquitetura voltada para a utilização na modelagem e implementação do sistema baseado em LLM.</i>\n",
    "\n",
    "\n",
    "\n",
    "\n",
    "### Inteligência Artificial (IA)\n",
    "\n",
    "A **Inteligência Artificial** é um campo da ciência da computação que visa criar sistemas capazes de realizar tarefas que normalmente requerem inteligência humana:\n",
    "\n",
    "- **Machine Learning (ML)**: Algoritmos que aprendem padrões a partir de dados sem programação explícita\n",
    "- **Deep Learning**: Subcampo do ML que usa redes neurais com múltiplas camadas\n",
    "- **Processamento de Linguagem Natural (NLP)**: Capacidade de máquinas entenderem e processarem linguagem humana\n",
    "- **Computer Vision**: Capacidade de máquinas interpretarem e analisarem informações visuais\n",
    "- **Sistemas de Recomendação**: Algoritmos que sugerem itens relevantes para usuários\n",
    "- **IA Generativa**: Modelos que podem criar conteúdo novo (texto, imagens, código) baseado em padrões aprendidos\n",
    "\n",
    "\n",
    "#### <i> Relação do trabalho com a disciplina\n",
    "\n",
    "No caso deste trabalho, utilizou-se ferramentas de visão computacional e de machine learning, tornadas abstradas na biblioteca docling, de processamento de linguagem natural (para exploração dos dados e embeddings), além de planejar o uso de IA generativa para os próximos passos.</i>\n",
    "\n",
    "\n",
    "### Processamento de Dados Não Estruturados\n",
    "\n",
    "**Dados não estruturados** são informações que não seguem um formato predefinido ou modelo de dados específico:\n",
    "\n",
    "- **Textos**: Documentos, emails, posts em redes sociais, artigos\n",
    "- **Imagens**: Fotos, diagramas, gráficos, documentos digitalizados\n",
    "- **Áudio**: Gravações de voz, música, podcasts\n",
    "- **Vídeo**: Gravações, transmissões ao vivo, conteúdo multimídia\n",
    "- **Dados Semi-estruturados**: JSON, XML, logs de sistema\n",
    "\n",
    "**Técnicas de Processamento**:\n",
    "- **OCR (Optical Character Recognition)**: Conversão de imagens com texto em texto editável\n",
    "- **Web Scraping**: Extração automatizada de dados de websites\n",
    "- **Análise de Sentimento**: Determinação da opinião ou emoção em textos\n",
    "- **Extração de Entidades**: Identificação de pessoas, lugares, organizações em textos\n",
    "- **Embeddings**: Representação vetorial de textos para análise semântica\n",
    "\n",
    "#### <i>Relação do trabalho com a disciplina\n",
    "\n",
    "Conforme já mencionado, a biblioteca Docling utiliza em seu baixo nível instrumentos de OCR e outras técnicas para a transformação dos dados não estruturados. O resultado se torna equivalente a dados semi-estruturados, aptos a receberem uma representação vetorial (embeddings). </i>\n",
    "\n",
    "\n",
    "\n",
    "### Tópicos de Banco de Dados\n",
    "\n",
    "Os **Bancos de Dados** são sistemas organizados para armazenar, gerenciar e recuperar informações:\n",
    "\n",
    "#### **Bancos Relacionais (SQL)**:\n",
    "- **ACID**: Atomicidade, Consistência, Isolamento, Durabilidade\n",
    "- **Normalização**: Processo de organização de dados para reduzir redundância\n",
    "- **Índices**: Estruturas que aceleram consultas\n",
    "- **Transações**: Operações que mantêm integridade dos dados\n",
    "- **Views**: Representações virtuais de dados\n",
    "\n",
    "#### **Bancos NoSQL**:\n",
    "- **Documentos**: MongoDB, CouchDB (armazenam documentos JSON/BSON)\n",
    "- **Chave-Valor**: Redis, DynamoDB (armazenam pares chave-valor)\n",
    "- **Colunas**: Cassandra, HBase (armazenam dados em colunas)\n",
    "- **Grafos**: Neo4j, Amazon Neptune (armazenam relacionamentos)\n",
    "\n",
    "#### **Conceitos Avançados**:\n",
    "- **Data Warehousing**: Repositórios otimizados para análise\n",
    "- **Data Mining**: Descoberta de padrões em grandes volumes de dados\n",
    "- **OLAP vs OLTP**: Processamento analítico vs transacional\n",
    "- **Sharding**: Divisão de dados em múltiplos servidores\n",
    "- **Replicação**: Cópias de dados para alta disponibilidade\n",
    "- **Backup e Recovery**: Estratégias de proteção e recuperação de dados\n",
    "\n",
    "\n",
    "\n",
    "### Resumo da Integração das Disciplinas no Projeto\n",
    "\n",
    "Este projeto integra todas essas áreas ao:\n",
    "1. **Processar dados não estruturados** (PDF) usando técnicas de NLP e OCR\n",
    "2. **Aplicar IA** através de embeddings e modelos de linguagem para análise semântica\n",
    "3. **Utilizar conceitos de banco de dados** na criação de vector stores para busca eficiente\n",
    "4. **Implementar engenharia de dados** no pipeline de transformação e armazenamento dos dados\n"
   ]
  },
  {
   "cell_type": "markdown",
   "id": "0813493e",
   "metadata": {},
   "source": [
    "## Definição e descrição de como será calculada a acurácia\n",
    "\n",
    "O trabalho possui como desafio <i>\"tornar informações complexas e densas compreensíveis e úteis para o cidadão comum, fortalecendo o exercício do controle social e promovendo uma gestão pública mais aberta e participativa\" </i> (Projeto Aplicado II, p. 8).\n",
    "\n",
    "Isso foi reescrito no objetivo de criar <i>\"um  ChatBOT  interativo,  capaz  de interpretar o Balanço Geral do Estado e demais documentos oficiais, respondendo a consultas  de  usuários sem recorrer  a  terminologia  técnica, de  forma clara e contextualizada.\"</i> (Projeto Aplicado II, p. 8).\n",
    "\n",
    "Uma métrica para o cálculo da acurácia, então, deve levar em conta esse objetivo.\n",
    "\n",
    "\n",
    "A despeito do termo acurácia não ser o melhor conceito a ser aplicado ao projeto, propõe-se que a métrica de avaliação seja a seguir:\n",
    "\n",
    "<i><b>Compreensividade</b></i>: quantidade de respostas que puderam ser compreendidas pelos usuários em relação ao total.\n",
    "\n",
    "\n",
    "Por ser uma métrica de custo elevado de obtenção (dado que não será fácil obter respostas de usuários finais, em especial daqueles que não possuem contato direto com códigos - tecnologia - nem com a matéria contábil), propõe-se a utilização de um <i>proxy</i>:\n",
    "\n",
    "<i><b>Compreensividade Artificial</b</i>: quantidade de respostas que puderam ser compreendidas por LLMs com prompts delimitantes em relação ao toal.\n",
    "\n",
    "\n",
    "Neste caso, <i>prompt delimitante</i> é um prompt que atribui uma personalidade para a LLM e restringe expressamente as respostas e o entendimento baseado no nível de conhecimento esperado daquela personalidade. Por exemplo:\n",
    "\n",
    "\n",
    "Prompt Estruturante de Enfermeiro:\n",
    "\n",
    "\" Você é um ator artístico dedicado. Seu objetivo é representar fielmente um papel de uma pessoa, a fim de que conseguir expressar qual seria a reação dessa pessoa a uma determinada informação.\n",
    "\n",
    "Restrinja seu entendimento sobre a resposta e em relação ao mundo ao que seria esperado de uma pessoa na mesma situação a que te for dada. Não fuja desta ordem.\n",
    "\n",
    "Você receberá um papel e deverá dar feedback a uma determinada frase/texto, retornando uma avaliação de 1 a 5 de compreensividade e a justificativa, conforme os graus a seguir:\n",
    "\n",
    "1. Não compreendeu nada;\n",
    "2. Texto de difícil compreensão\n",
    "3. Texto normal, é capaz de entender \n",
    "4. Texto relativamente adequado ao seu conhecimento\n",
    "5. Texto perfeitamente compreendido por ter usado termos usuais no seu dia a dia\n",
    "\n",
    "Exemplos:\n",
    "\n",
    "Papel: Seu nome é Amanda Sardinha, você é enfermeira no Hospital Central do Rio Grande do Sul. Você nunca teve contato com linguagem de programação nem com qualquer outra matéria que não fosse relacionada a sua vida profissional. Você gosta de correr e ver séries, e sai com os amigos para balada.\n",
    "\n",
    "Texto: \"O crescimento da dívida com a União se deve ao esquema de postergação e refinanciamento  parcial  das  parcelas  possibilitado  pelo  Regime  de  Recuperação  Fiscal  (RRF)  e, sobretudo, à correção monetária do saldo devedor pelo CAM (coeficiente de atualização monetária),  utilizada  para  corrigir  o  saldo  devedor  até  o  mês  de  junho.  A  partir  de  julho, com a entrada em vigor da LC 206/2024, o saldo devedor passou a ser atualizado pelo IPCA. Além disso, a LC 206/2024 suspendeu o pagamento da dívida com a União por 36 meses e  determinou  juro  zerado  nesse  período.  Ao  fim  do  período  previsto,  pela  regra  atual, a atualização do saldo devedor voltará a ser realizada por meio da CAM\"\n",
    "\n",
    "Feedback: {\"compreensividade\": 1, \"justificativa\": \"Eu, como Amanda, não compreendo o que seja Regime de Recuperação Fiscal, nem o que seria LC. Além disso, o texto é confuso para mim.\"}\n",
    "\n",
    "\n",
    "Papel: Seu nome é Amanda Sardinha, você é enfermeira no Hospital Central do Rio Grande do Sul. Você nunca teve contato com linguagem de programação nem com qualquer outra matéria que não fosse relacionada a sua vida profissional. Você gosta de correr e ver séries, e sai com os amigos para balada.\n",
    "\n",
    "Texto: \"A dívida do Estado com o resto do Brasil (União) foi sendo postergada e refinanciada, e aumentou à cada refinanciamento por causa da aplicação de juros e correção monetária por um índice específico (CAM) até junho. Em julho, entrou uma lei que permitiu que a correção monetária fosse feita usando outro índice (IPCA), além de outra lei ter suspendido os pagamentos por 36 meses, com juros zeros enquanto durasse a suspensão. Ao final desse período, os juros vão voltar a ser calculados pelo índice inicial (CAM).\"\n",
    "\n",
    "Feedback: {\"compreensividade\": 3, \"justificativa\": \"Eu, como Amanda, pude compreender que o Estado está em dívida com a União e que houve uma mudança da forma de calcular os juros no período. Mas ainda resta confuso sobre o que isso significa na prática.\"}\n",
    "\n",
    "\"\n",
    "\n",
    "\n",
    "\n",
    "A despeito do proxy não ser perfeito, é uma forma de mensurar quando o sistema estiver razoavelmente pronto para uma anotação mais cara (utilização de usuários finais). A expectativa é que seja montado um dataset de avaliação, contendo diversas perguntas sobre o balanço, e que cada uma das respostas tenha avaliação de 5 a 10 personalidades distintas, obtendo-se a métrica (Compreensividade Artificial) pela média das notas. \n",
    "\n",
    "\n",
    "\n"
   ]
  }
 ],
 "metadata": {
  "kernelspec": {
   "display_name": ".venv",
   "language": "python",
   "name": "python3"
  },
  "language_info": {
   "codemirror_mode": {
    "name": "ipython",
    "version": 3
   },
   "file_extension": ".py",
   "mimetype": "text/x-python",
   "name": "python",
   "nbconvert_exporter": "python",
   "pygments_lexer": "ipython3",
   "version": "3.12.3"
  }
 },
 "nbformat": 4,
 "nbformat_minor": 5
}
